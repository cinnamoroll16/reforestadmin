{
 "cells": [
  {
   "cell_type": "code",
   "execution_count": null,
   "id": "a99e1770",
   "metadata": {},
   "outputs": [
    {
     "name": "stdout",
     "output_type": "stream",
     "text": [
      "c:\\Users\\Dell\\Desktop\\CAPSTONE ML\\notebooks\n",
      "✅ All libraries imported successfully!\n",
      "📋 Ready to build Tree Recommendation System\n"
     ]
    }
   ],
   "source": [
    "import pandas as pd\n",
    "import numpy as np\n",
    "from sklearn.ensemble import RandomForestClassifier\n",
    "from sklearn.model_selection import train_test_split, cross_val_score\n",
    "from sklearn.metrics import accuracy_score, classification_report, confusion_matrix\n",
    "import matplotlib.pyplot as plt\n",
    "import seaborn as sns\n",
    "import joblib\n",
    "import os\n",
    "print(os.getcwd())   \n",
    "\n",
    "print(\"✅ All libraries imported successfully!\")\n",
    "print(\"📋 Ready to build Tree Recommendation System\")"
   ]
  },
  {
   "cell_type": "code",
   "execution_count": null,
   "id": "0d1a5cf1",
   "metadata": {},
   "outputs": [
    {
     "name": "stdout",
     "output_type": "stream",
     "text": [
      "Dataset shape: (26, 6)\n",
      "\n",
      "First few rows:\n",
      "  Common Name           Scientific Name  \\\n",
      "0    Lansones        Lansium Domesticom   \n",
      "1      Marang  Artocarpus odoratissimus   \n",
      "2      Santol       Sandoricum koetjape   \n",
      "3       Guava           Psidium guajava   \n",
      "4      Molave          Vitex parviflora   \n",
      "\n",
      "                                          Soil Type Soil Moisture pH Range  \\\n",
      "0  Well-drained, sandy loam, rich in organic matter        15-25%  5.56.5   \n",
      "1             Deep, fertile, well-drained clay loam        35-45%  5.56.5   \n",
      "2             Sandy loam to clay loam, well-drained     20  35 %  5.06.5   \n",
      "3      Adaptable, prefers sandy loam, good drainage     15  25 %  4.57.0   \n",
      "4                Dry, well-drained, limestone soils     10  20 %  6.07.5   \n",
      "\n",
      "  Temperature   \n",
      "0     2235 °C  \n",
      "1     2432 °C  \n",
      "2     2232 °C  \n",
      "3     2030 °C  \n",
      "4     2232 °C  \n",
      "\n",
      "Data info:\n",
      "<class 'pandas.core.frame.DataFrame'>\n",
      "RangeIndex: 26 entries, 0 to 25\n",
      "Data columns (total 6 columns):\n",
      " #   Column           Non-Null Count  Dtype \n",
      "---  ------           --------------  ----- \n",
      " 0   Common Name      26 non-null     object\n",
      " 1   Scientific Name  26 non-null     object\n",
      " 2   Soil Type        26 non-null     object\n",
      " 3   Soil Moisture    26 non-null     object\n",
      " 4   pH Range         26 non-null     object\n",
      " 5   Temperature      26 non-null     object\n",
      "dtypes: object(6)\n",
      "memory usage: 1.3+ KB\n",
      "None\n",
      "\n",
      "Missing values:\n",
      "Common Name        0\n",
      "Scientific Name    0\n",
      "Soil Type          0\n",
      "Soil Moisture      0\n",
      "pH Range           0\n",
      "Temperature        0\n",
      "dtype: int64\n",
      "\n",
      "Statistical summary:\n",
      "       Common Name     Scientific Name                              Soil Type  \\\n",
      "count           26                  26                                     26   \n",
      "unique          26                  26                                     22   \n",
      "top       Lansones  Lansium Domesticom  Sandy loam to clay loam, well-drained   \n",
      "freq             1                   1                                      2   \n",
      "\n",
      "       Soil Moisture pH Range Temperature   \n",
      "count             26       26           26  \n",
      "unique            11       12           18  \n",
      "top        25  35 %  5.56.5     2232 °C  \n",
      "freq               6        5            3  \n"
     ]
    }
   ],
   "source": [
    "# Load your dataset\n",
    "df = pd.read_csv(r\"C:\\ReForest\\reforestadmin\\data\\tree_seedling_datasets.csv\", encoding='latin1')# Basic data exploration\n",
    "print(\"Dataset shape:\", df.shape)\n",
    "print(\"\\nFirst few rows:\")\n",
    "print(df.head())\n",
    "print(\"\\nData info:\")\n",
    "print(df.info())\n",
    "print(\"\\nMissing values:\")\n",
    "print(df.isnull().sum())\n",
    "print(\"\\nStatistical summary:\")\n",
    "print(df.describe())"
   ]
  },
  {
   "cell_type": "code",
   "execution_count": null,
   "id": "2d2f6e34",
   "metadata": {},
   "outputs": [
    {
     "name": "stdout",
     "output_type": "stream",
     "text": [
      "Features preview:\n",
      "   Soil Moisture  pH Range  Temperature \n",
      "0           -5.0      6.00          28.5\n",
      "1           -5.0      6.00          28.0\n",
      "2           27.5      5.75          27.0\n",
      "3           20.0      5.75          25.0\n",
      "4           15.0      6.75          27.0\n",
      "\n",
      "Target preview:\n",
      "0    Lansones\n",
      "1      Marang\n",
      "2      Santol\n",
      "3       Guava\n",
      "4      Molave\n",
      "Name: Common Name, dtype: object\n"
     ]
    }
   ],
   "source": [
    "import pandas as pd\n",
    "import numpy as np\n",
    "import re\n",
    "\n",
    "# Choose your feature columns (inputs from sensors)\n",
    "moisture_col = \"Soil Moisture\"\n",
    "ph_col = \"pH Range\"\n",
    "temp_col = \"Temperature \"   # note the trailing space in your CSV\n",
    "\n",
    "# Target column (tree type you want to recommend)\n",
    "target_col = \"Common Name\"\n",
    "\n",
    "# --- Helper function to clean numeric/ordinal values ---\n",
    "def parse_numeric_value(x):\n",
    "    if pd.isna(x):\n",
    "        return np.nan\n",
    "    if isinstance(x, (int, float, np.integer, np.floating)):\n",
    "        return float(x)\n",
    "\n",
    "    s = str(x).strip().lower()\n",
    "    # Map qualitative words to numbers\n",
    "    ordinal_map = {\n",
    "        \"very low\": 1, \"low\": 2, \"medium\": 3, \"moderate\": 3, \n",
    "        \"high\": 4, \"very high\": 5,\n",
    "        \"dry\": 2, \"moist\": 4, \"wet\": 5\n",
    "    }\n",
    "    if s in ordinal_map:\n",
    "        return float(ordinal_map[s])\n",
    "\n",
    "    # Extract numbers from ranges like \"5.5–7.0\" or \"22-30 C\"\n",
    "    nums = re.findall(r\"-?\\d+\\.?\\d*\", s)\n",
    "    if len(nums) == 0:\n",
    "        return np.nan\n",
    "    nums = [float(n) for n in nums]\n",
    "    return float(np.mean(nums))  # take midpoint if it's a range\n",
    "\n",
    "# Apply parsing to your dataset\n",
    "X = pd.DataFrame({\n",
    "    moisture_col: df[moisture_col].apply(parse_numeric_value),\n",
    "    ph_col: df[ph_col].apply(parse_numeric_value),\n",
    "    temp_col: df[temp_col].apply(parse_numeric_value),\n",
    "})\n",
    "\n",
    "y = df[target_col].astype(str)  # make sure target is string labels\n",
    "\n",
    "print(\"Features preview:\")\n",
    "print(X.head())\n",
    "print(\"\\nTarget preview:\")\n",
    "print(y.head())\n"
   ]
  },
  {
   "cell_type": "code",
   "execution_count": null,
   "id": "3770053b",
   "metadata": {},
   "outputs": [
    {
     "name": "stdout",
     "output_type": "stream",
     "text": [
      "Train accuracy: 1.0\n",
      "Test accuracy: 0.0\n"
     ]
    }
   ],
   "source": [
    "from sklearn.model_selection import train_test_split\n",
    "from sklearn.ensemble import RandomForestClassifier\n",
    "\n",
    "# Train-test split\n",
    "X_train, X_test, y_train, y_test = train_test_split(X, y, test_size=0.2, random_state=42)\n",
    "\n",
    "# Build Random Forest\n",
    "rf = RandomForestClassifier(n_estimators=200, random_state=42)\n",
    "rf.fit(X_train, y_train)\n",
    "\n",
    "# Evaluate\n",
    "print(\"Train accuracy:\", rf.score(X_train, y_train))\n",
    "print(\"Test accuracy:\", rf.score(X_test, y_test))\n"
   ]
  },
  {
   "cell_type": "code",
   "execution_count": null,
   "id": "63552782",
   "metadata": {},
   "outputs": [
    {
     "name": "stdout",
     "output_type": "stream",
     "text": [
      "              precision    recall  f1-score   support\n",
      "\n",
      "       Agoho       0.00      0.00      0.00       1.0\n",
      "        Akli       0.00      0.00      0.00       0.0\n",
      "     Avocado       0.00      0.00      0.00       0.0\n",
      "     Caimito       0.00      0.00      0.00       1.0\n",
      "    Lansones       0.00      0.00      0.00       1.0\n",
      "     Lanutan       0.00      0.00      0.00       0.0\n",
      "    Mahogany       0.00      0.00      0.00       0.0\n",
      "      Manggo       0.00      0.00      0.00       1.0\n",
      "      Marang       0.00      0.00      0.00       0.0\n",
      "  Pangantoon       0.00      0.00      0.00       1.0\n",
      "    Pili Nut       0.00      0.00      0.00       1.0\n",
      "\n",
      "    accuracy                           0.00       6.0\n",
      "   macro avg       0.00      0.00      0.00       6.0\n",
      "weighted avg       0.00      0.00      0.00       6.0\n",
      "\n"
     ]
    },
    {
     "data": {
      "image/png": "[encoded data removed]",
      "text/plain": [
       "<Figure size 640x480 with 1 Axes>"
      ]
     },
     "metadata": {},
     "output_type": "display_data"
    }
   ],
   "source": [
    "from sklearn.metrics import classification_report\n",
    "import matplotlib.pyplot as plt\n",
    "\n",
    "y_pred = rf.predict(X_test)\n",
    "print(classification_report(y_test, y_pred, zero_division=0))\n",
    "\n",
    "importances = rf.feature_importances_\n",
    "plt.barh([moisture_col, ph_col, temp_col], importances)\n",
    "plt.title(\"Feature Importances\")\n",
    "plt.show()\n"
   ]
  },
  {
   "cell_type": "code",
   "execution_count": 17,
   "id": "cb37c844",
   "metadata": {},
   "outputs": [
    {
     "name": "stdout",
     "output_type": "stream",
     "text": [
      "Model saved as tree_recommender_rf.pkl\n"
     ]
    }
   ],
   "source": [
    "import joblib\n",
    "\n",
    "joblib.dump(rf, \"tree_recommender_rf.pkl\")\n",
    "print(\"Model saved as tree_recommender_rf.pkl\")\n"
   ]
  },
  {
   "cell_type": "code",
   "execution_count": 18,
   "id": "bffaf6d7",
   "metadata": {},
   "outputs": [
    {
     "name": "stdout",
     "output_type": "stream",
     "text": [
      "🌱 Recommended tree: Nangka\n",
      "\n",
      "📊 Class probabilities:\n",
      "Akli: 0.045\n",
      "Atis: 0.005\n",
      "Avocado: 0.000\n",
      "Banaba: 0.215\n",
      "Bangkál: 0.000\n",
      "Bani: 0.010\n",
      "Cacao: 0.005\n",
      "Dao: 0.000\n",
      "Guava: 0.000\n",
      "Guyabano: 0.135\n",
      "Lanutan: 0.045\n",
      "Lemonsito: 0.050\n",
      "Lomboy: 0.175\n",
      "Mahogany: 0.005\n",
      "Marang: 0.065\n",
      "Molave: 0.005\n",
      "Nangka: 0.220\n",
      "Narra: 0.005\n",
      "Rambutan: 0.005\n",
      "Santol: 0.010\n"
     ]
    }
   ],
   "source": [
    "import joblib\n",
    "import pandas as pd\n",
    "\n",
    "# Load the trained model\n",
    "rf = joblib.load(\"tree_recommender_rf.pkl\")\n",
    "\n",
    "# Define same feature names used in training\n",
    "moisture_col = \"Soil Moisture\"\n",
    "ph_col = \"pH Range\"\n",
    "temp_col = \"Temperature \"\n",
    "\n",
    "# Example sensor readings (ilisan nimo sa actual values gikan sa sensors)\n",
    "sensor_data = {\n",
    "    moisture_col: 25.0,   # Soil moisture (%)\n",
    "    ph_col: 6.5,          # pH value\n",
    "    temp_col: 28.0        # Temperature (°C)\n",
    "}\n",
    "\n",
    "# Convert to DataFrame\n",
    "X_new = pd.DataFrame([sensor_data])\n",
    "\n",
    "# Predict\n",
    "prediction = rf.predict(X_new)[0]\n",
    "proba = rf.predict_proba(X_new)[0]\n",
    "\n",
    "print(\"🌱 Recommended tree:\", prediction)\n",
    "print(\"\\n📊 Class probabilities:\")\n",
    "for tree, p in zip(rf.classes_, proba):\n",
    "    print(f\"{tree}: {p:.3f}\")\n"
   ]
  },
  {
   "cell_type": "code",
   "execution_count": null,
   "id": "db00943a",
   "metadata": {},
   "outputs": [
    {
     "name": "stdout",
     "output_type": "stream",
     "text": [
      "Model saved as tree_recommender_rf.pkl\n"
     ]
    }
   ],
   "source": [
    "import joblib\n",
    "\n",
    "joblib.dump(rf, \"tree_recommender_rf.pkl\")\n",
    "print(\"Model saved as tree_recommender_rf.pkl\")\n"
   ]
  },
  {
   "cell_type": "code",
   "execution_count": null,
   "id": "1c379b97",
   "metadata": {},
   "outputs": [
    {
     "name": "stdout",
     "output_type": "stream",
     "text": [
      "🌱 Recommended tree: Nangka\n"
     ]
    }
   ],
   "source": [
    "import joblib\n",
    "import pandas as pd\n",
    "\n",
    "rf = joblib.load(\"tree_recommender_rf.pkl\")\n",
    "\n",
    "moisture_col = \"Soil Moisture\"\n",
    "ph_col = \"pH Range\"\n",
    "temp_col = \"Temperature \"\n",
    "\n",
    "sensor_data = {\n",
    "    moisture_col: 25.0,   # example soil moisture %\n",
    "    ph_col: 6.5,          # example pH\n",
    "    temp_col: 28.0        # example temperature °C\n",
    "}\n",
    "\n",
    "X_new = pd.DataFrame([sensor_data])\n",
    "\n",
    "prediction = rf.predict(X_new)[0]\n",
    "proba = rf.predict_proba(X_new)[0]\n",
    "\n",
    "print(\"🌱 Recommended tree:\", prediction)\n"
   ]
  },
  {
   "cell_type": "code",
   "execution_count": 21,
   "id": "442c6fcc",
   "metadata": {},
   "outputs": [
    {
     "name": "stdout",
     "output_type": "stream",
     "text": [
      "\n",
      "🌱 Top 3 recommended trees:\n",
      "Nangka: 0.220\n",
      "Banaba: 0.215\n",
      "Lomboy: 0.175\n"
     ]
    }
   ],
   "source": [
    "import numpy as np\n",
    "\n",
    "classes = rf.classes_\n",
    "top_idx = np.argsort(proba)[::-1]\n",
    "top_classes = classes[top_idx][:3]\n",
    "top_scores = proba[top_idx][:3]\n",
    "\n",
    "print(\"\\n🌱 Top 3 recommended trees:\")\n",
    "for tree, score in zip(top_classes, top_scores):\n",
    "    print(f\"{tree}: {score:.3f}\")\n"
   ]
  },
  {
   "cell_type": "code",
   "execution_count": null,
   "id": "827b6e88",
   "metadata": {},
   "outputs": [
    {
     "name": "stdout",
     "output_type": "stream",
     "text": [
      "🌱 Recommended tree: Nangka\n",
      "\n",
      "🌱 Top 3 recommended trees:\n",
      "Nangka: 0.345\n",
      "Lanutan: 0.185\n",
      "Mahogany: 0.120\n"
     ]
    }
   ],
   "source": [
    "# Variables para sa sensor readings (ilisan kung naa nay actual readings)\n",
    "moisture_value = 30.0       # % soil moisture\n",
    "ph_value = 6.8              # pH level\n",
    "temperature_value = 27.0    # °C\n",
    "\n",
    "# Format into dict (same column names as dataset)\n",
    "sensor_data = {\n",
    "    \"Soil Moisture\": moisture_value,\n",
    "    \"pH Range\": ph_value,\n",
    "    \"Temperature \": temperature_value\n",
    "}\n",
    "\n",
    "# Convert to DataFrame\n",
    "X_new = pd.DataFrame([sensor_data])\n",
    "\n",
    "# Predict with RF model\n",
    "prediction = rf.predict(X_new)[0]\n",
    "proba = rf.predict_proba(X_new)[0]\n",
    "\n",
    "print(\"🌱 Recommended tree:\", prediction)\n",
    "\n",
    "# Show Top 3 matches\n",
    "import numpy as np\n",
    "classes = rf.classes_\n",
    "top_idx = np.argsort(proba)[::-1]\n",
    "top_classes = classes[top_idx][:3]\n",
    "top_scores = proba[top_idx][:3]\n",
    "\n",
    "print(\"\\n🌱 Top 3 recommended trees:\")\n",
    "for tree, score in zip(top_classes, top_scores):\n",
    "    print(f\"{tree}: {score:.3f}\")\n"
   ]
  },
  {
   "cell_type": "code",
   "execution_count": null,
   "id": "b947e70d",
   "metadata": {},
   "outputs": [],
   "source": [
    "\n"
   ]
  },
  {
   "cell_type": "code",
   "execution_count": null,
   "id": "b77cc8b7",
   "metadata": {},
   "outputs": [],
   "source": []
  },
  {
   "cell_type": "code",
   "execution_count": null,
   "id": "2ac3b066",
   "metadata": {},
   "outputs": [],
   "source": []
  }
 ],
 "metadata": {
  "kernelspec": {
   "display_name": "rf_env",
   "language": "python",
   "name": "python3"
  },
  "language_info": {
   "codemirror_mode": {
    "name": "ipython",
    "version": 3
   },
   "file_extension": ".py",
   "mimetype": "text/x-python",
   "name": "python",
   "nbconvert_exporter": "python",
   "pygments_lexer": "ipython3",
   "version": "3.13.3"
  }
 },
 "nbformat": 4,
 "nbformat_minor": 5
}
